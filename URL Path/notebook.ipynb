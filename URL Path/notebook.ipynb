{
 "cells": [
  {
   "cell_type": "code",
   "execution_count": 1,
   "metadata": {},
   "outputs": [],
   "source": [
    "import os\n",
    "import subprocess"
   ]
  },
  {
   "cell_type": "code",
   "execution_count": 2,
   "metadata": {},
   "outputs": [
    {
     "name": "stdout",
     "output_type": "stream",
     "text": [
      "Path found: ['https://www.fit.cvut.cz', 'https://prihlaska.cvut.cz/apps/kos/prihlaska', 'http://www.cvut.cz/kontakty-na-studijni-oddeleni-fakult', 'http://www.fa.cvut.cz']\n"
     ]
    }
   ],
   "source": [
    "SCRIPT_NAME = 'find_path.py'\n",
    "script_path = os.path.join('.', 'src', SCRIPT_NAME)\n",
    "\n",
    "first_url = 'https://www.fit.cvut.cz'\n",
    "second_url = 'http://www.fa.cvut.cz'                                                                                                                                                                                                                                                \n",
    "ret = subprocess.run(['python', script_path, first_url, second_url],\n",
    "                     stdout=subprocess.PIPE, stderr=subprocess.PIPE)\n",
    "if ret.returncode != 0:\n",
    "    print(\"Error code:\", ret.returncode)\n",
    "\n",
    "output = ret.stdout.decode('utf-8').strip()\n",
    "\n",
    "output = output.split('\\n')[-1]\n",
    "print(output)"
   ]
  }
 ],
 "metadata": {
  "kernelspec": {
   "display_name": "base",
   "language": "python",
   "name": "python3"
  },
  "language_info": {
   "codemirror_mode": {
    "name": "ipython",
    "version": 3
   },
   "file_extension": ".py",
   "mimetype": "text/x-python",
   "name": "python",
   "nbconvert_exporter": "python",
   "pygments_lexer": "ipython3",
   "version": "3.9.13"
  }
 },
 "nbformat": 4,
 "nbformat_minor": 2
}
